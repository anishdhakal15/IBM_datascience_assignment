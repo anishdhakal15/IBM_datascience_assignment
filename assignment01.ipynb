{
 "cells": [
  {
   "cell_type": "markdown",
   "id": "fba9a2b1-3cbf-4275-9d02-9a89eda08286",
   "metadata": {},
   "source": [
    "# My Jupyter Notebook on IBM Watson Studio"
   ]
  },
  {
   "cell_type": "markdown",
   "id": "1caf7dfa-6faa-4261-8883-c0d53d991ed3",
   "metadata": {},
   "source": [
    "**Resmi Raj Dhakal** <br>\n",
    "Data Scientist"
   ]
  },
  {
   "cell_type": "markdown",
   "id": "c154455f-7a7f-434d-9749-ee5f0e1c9bfd",
   "metadata": {},
   "source": [
    "_I am interested in data science because i love to play with data and exert meaning out of it_"
   ]
  },
  {
   "cell_type": "markdown",
   "id": "6c91cb1a-1d52-489a-ad2f-f76ae598121a",
   "metadata": {},
   "source": [
    "### function to generate mean from array"
   ]
  },
  {
   "cell_type": "code",
   "execution_count": 3,
   "id": "3bdf6da5-fbad-4a59-9f8e-24b1578599f7",
   "metadata": {},
   "outputs": [],
   "source": [
    "def arrayToMean(arr):\n",
    "    return sum(arr)/len(arr)\n"
   ]
  },
  {
   "cell_type": "markdown",
   "id": "2f2cd3b3-1882-4a20-bb80-c6469d897497",
   "metadata": {},
   "source": [
    "![alt text](https://play-lh.googleusercontent.com/PCpXdqvUWfCW1mXhH1Y_98yBpgsWxuTSTofy3NGMo9yBTATDyzVkqU580bfSln50bFU \"Github Logo\")\n",
    "<hr>\n",
    "\n",
    "Name | Gender | Salary\n",
    "--- | --- | ---\n",
    "Rahul | Male | 1200\n",
    "Bibek | Male | 3200\n",
    "John  | Male | 3000\n",
    "\n",
    "<hr>\n",
    "\n",
    "This Table contains following columns:\n",
    "1. Name\n",
    "2. Gender\n",
    "3. Salary\n",
    "\n",
    "[Visit Google](https://www.google.com)\n"
   ]
  },
  {
   "cell_type": "code",
   "execution_count": null,
   "id": "462445d1-8e12-4b77-be10-8352b460d579",
   "metadata": {},
   "outputs": [],
   "source": []
  }
 ],
 "metadata": {
  "kernelspec": {
   "display_name": "Python",
   "language": "python",
   "name": "conda-env-python-py"
  },
  "language_info": {
   "codemirror_mode": {
    "name": "ipython",
    "version": 3
   },
   "file_extension": ".py",
   "mimetype": "text/x-python",
   "name": "python",
   "nbconvert_exporter": "python",
   "pygments_lexer": "ipython3",
   "version": "3.7.12"
  }
 },
 "nbformat": 4,
 "nbformat_minor": 5
}
